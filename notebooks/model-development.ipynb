{
 "cells": [
  {
   "cell_type": "markdown",
   "id": "7819a709",
   "metadata": {},
   "source": [
    "# Desenvolvimento do modelo para predição de preços de laptop\n",
    "\n",
    "Exploração inicial de diferentes tipos de modelo."
   ]
  },
  {
   "cell_type": "code",
   "execution_count": 2,
   "id": "7ad0d6bd",
   "metadata": {},
   "outputs": [],
   "source": [
    "import pandas as pd\n",
    "from dagshub.data_engine import datasources\n",
    "import mlflow\n",
    "import dagshub\n",
    "from sklearn.model_selection import train_test_split\n",
    "import mlflow.sklearn\n",
    "import mlflow.catboost\n",
    "from sklearn.linear_model import Ridge\n",
    "from sklearn.model_selection import GridSearchCV\n",
    "from sklearn.metrics import make_scorer, mean_squared_error, mean_absolute_error, r2_score, mean_absolute_percentage_error\n",
    "from sklearn.tree import DecisionTreeRegressor\n",
    "from sklearn.neural_network import MLPRegressor\n",
    "from xgboost import XGBRegressor\n",
    "import lightgbm as lgb\n",
    "from sklearn.svm import SVR\n",
    "from sklearn.gaussian_process import GaussianProcessRegressor\n",
    "from sklearn.gaussian_process.kernels import RBF, ConstantKernel as C\n",
    "import mlflow.models.signature\n",
    "from mlflow.models import infer_signature\n",
    "from catboost import CatBoostRegressor"
   ]
  },
  {
   "cell_type": "markdown",
   "id": "cf5a093f",
   "metadata": {},
   "source": [
    "## Obtendo dados do dataset"
   ]
  },
  {
   "cell_type": "code",
   "execution_count": 3,
   "id": "2c858c7d",
   "metadata": {},
   "outputs": [
    {
     "data": {
      "text/html": [
       "<pre style=\"white-space:pre;overflow-x:auto;line-height:normal;font-family:Menlo,'DejaVu Sans Mono',consolas,'Courier New',monospace\">Accessing as michelpf\n",
       "</pre>\n"
      ],
      "text/plain": [
       "Accessing as michelpf\n"
      ]
     },
     "metadata": {},
     "output_type": "display_data"
    }
   ],
   "source": [
    "ds = datasources.get(\"michelpf/fiap-ds-mlops-9dtsr-laptop-pricing\", \"processed\")"
   ]
  },
  {
   "cell_type": "code",
   "execution_count": 4,
   "id": "827d0c34",
   "metadata": {},
   "outputs": [
    {
     "data": {
      "application/vnd.jupyter.widget-view+json": {
       "model_id": "9ff6f41ed2a342faa7f7598515d280f9",
       "version_major": 2,
       "version_minor": 0
      },
      "text/plain": [
       "Output()"
      ]
     },
     "metadata": {},
     "output_type": "display_data"
    },
    {
     "data": {
      "text/html": [
       "<pre style=\"white-space:pre;overflow-x:auto;line-height:normal;font-family:Menlo,'DejaVu Sans Mono',consolas,'Courier New',monospace\"></pre>\n"
      ],
      "text/plain": []
     },
     "metadata": {},
     "output_type": "display_data"
    },
    {
     "data": {
      "text/html": [
       "<div>\n",
       "<style scoped>\n",
       "    .dataframe tbody tr th:only-of-type {\n",
       "        vertical-align: middle;\n",
       "    }\n",
       "\n",
       "    .dataframe tbody tr th {\n",
       "        vertical-align: top;\n",
       "    }\n",
       "\n",
       "    .dataframe thead th {\n",
       "        text-align: right;\n",
       "    }\n",
       "</style>\n",
       "<table border=\"1\" class=\"dataframe\">\n",
       "  <thead>\n",
       "    <tr style=\"text-align: right;\">\n",
       "      <th></th>\n",
       "      <th>path</th>\n",
       "      <th>datapoint_id</th>\n",
       "      <th>dagshub_download_url</th>\n",
       "      <th>media type</th>\n",
       "      <th>size</th>\n",
       "    </tr>\n",
       "  </thead>\n",
       "  <tbody>\n",
       "    <tr>\n",
       "      <th>0</th>\n",
       "      <td>laptop-price-brl-processed.csv</td>\n",
       "      <td>100654797</td>\n",
       "      <td>https://dagshub.com/api/v1/repos/michelpf/fiap...</td>\n",
       "      <td>text/plain</td>\n",
       "      <td>53354</td>\n",
       "    </tr>\n",
       "  </tbody>\n",
       "</table>\n",
       "</div>"
      ],
      "text/plain": [
       "                             path  datapoint_id  \\\n",
       "0  laptop-price-brl-processed.csv     100654797   \n",
       "\n",
       "                                dagshub_download_url  media type   size  \n",
       "0  https://dagshub.com/api/v1/repos/michelpf/fiap...  text/plain  53354  "
      ]
     },
     "execution_count": 4,
     "metadata": {},
     "output_type": "execute_result"
    }
   ],
   "source": [
    "ds.all().dataframe"
   ]
  },
  {
   "cell_type": "code",
   "execution_count": 5,
   "id": "88943135",
   "metadata": {},
   "outputs": [
    {
     "data": {
      "application/vnd.jupyter.widget-view+json": {
       "model_id": "6fb1e39c4f4c4a95a0d32fe53162a543",
       "version_major": 2,
       "version_minor": 0
      },
      "text/plain": [
       "Output()"
      ]
     },
     "metadata": {},
     "output_type": "display_data"
    },
    {
     "data": {
      "text/html": [
       "<pre style=\"white-space:pre;overflow-x:auto;line-height:normal;font-family:Menlo,'DejaVu Sans Mono',consolas,'Courier New',monospace\"></pre>\n"
      ],
      "text/plain": []
     },
     "metadata": {},
     "output_type": "display_data"
    }
   ],
   "source": [
    "res = ds.head()\n",
    "\n",
    "for dp in res:\n",
    "    dataset_url = dp.download_url"
   ]
  },
  {
   "cell_type": "code",
   "execution_count": 6,
   "id": "943a8200",
   "metadata": {},
   "outputs": [
    {
     "data": {
      "text/plain": [
       "'https://dagshub.com/api/v1/repos/michelpf/fiap-ds-mlops-9dtsr-laptop-pricing/raw/main/data/processed/laptop-price-brl-processed.csv'"
      ]
     },
     "execution_count": 6,
     "metadata": {},
     "output_type": "execute_result"
    }
   ],
   "source": [
    "dataset_url"
   ]
  },
  {
   "cell_type": "code",
   "execution_count": 7,
   "id": "2eadde76",
   "metadata": {},
   "outputs": [
    {
     "data": {
      "text/html": [
       "<div>\n",
       "<style scoped>\n",
       "    .dataframe tbody tr th:only-of-type {\n",
       "        vertical-align: middle;\n",
       "    }\n",
       "\n",
       "    .dataframe tbody tr th {\n",
       "        vertical-align: top;\n",
       "    }\n",
       "\n",
       "    .dataframe thead th {\n",
       "        text-align: right;\n",
       "    }\n",
       "</style>\n",
       "<table border=\"1\" class=\"dataframe\">\n",
       "  <thead>\n",
       "    <tr style=\"text-align: right;\">\n",
       "      <th></th>\n",
       "      <th>ram_gb</th>\n",
       "      <th>ssd</th>\n",
       "      <th>hdd</th>\n",
       "      <th>graphic_card_gb</th>\n",
       "      <th>warranty</th>\n",
       "      <th>price</th>\n",
       "      <th>brand_asus</th>\n",
       "      <th>brand_dell</th>\n",
       "      <th>brand_hp</th>\n",
       "      <th>brand_lenovo</th>\n",
       "      <th>...</th>\n",
       "      <th>os_windows</th>\n",
       "      <th>weight_casual</th>\n",
       "      <th>weight_gaming</th>\n",
       "      <th>weight_thinnlight</th>\n",
       "      <th>touchscreen_0</th>\n",
       "      <th>touchscreen_1</th>\n",
       "      <th>ram_type_ddr4</th>\n",
       "      <th>ram_type_other</th>\n",
       "      <th>os_bit_32-bit</th>\n",
       "      <th>os_bit_64-bit</th>\n",
       "    </tr>\n",
       "  </thead>\n",
       "  <tbody>\n",
       "    <tr>\n",
       "      <th>0</th>\n",
       "      <td>4</td>\n",
       "      <td>0</td>\n",
       "      <td>1024</td>\n",
       "      <td>0</td>\n",
       "      <td>0</td>\n",
       "      <td>2321</td>\n",
       "      <td>1</td>\n",
       "      <td>0</td>\n",
       "      <td>0</td>\n",
       "      <td>0</td>\n",
       "      <td>...</td>\n",
       "      <td>1</td>\n",
       "      <td>1</td>\n",
       "      <td>0</td>\n",
       "      <td>0</td>\n",
       "      <td>1</td>\n",
       "      <td>0</td>\n",
       "      <td>1</td>\n",
       "      <td>0</td>\n",
       "      <td>0</td>\n",
       "      <td>1</td>\n",
       "    </tr>\n",
       "    <tr>\n",
       "      <th>1</th>\n",
       "      <td>4</td>\n",
       "      <td>0</td>\n",
       "      <td>1024</td>\n",
       "      <td>0</td>\n",
       "      <td>0</td>\n",
       "      <td>2613</td>\n",
       "      <td>0</td>\n",
       "      <td>0</td>\n",
       "      <td>0</td>\n",
       "      <td>1</td>\n",
       "      <td>...</td>\n",
       "      <td>1</td>\n",
       "      <td>1</td>\n",
       "      <td>0</td>\n",
       "      <td>0</td>\n",
       "      <td>1</td>\n",
       "      <td>0</td>\n",
       "      <td>1</td>\n",
       "      <td>0</td>\n",
       "      <td>0</td>\n",
       "      <td>1</td>\n",
       "    </tr>\n",
       "    <tr>\n",
       "      <th>2</th>\n",
       "      <td>4</td>\n",
       "      <td>0</td>\n",
       "      <td>1024</td>\n",
       "      <td>0</td>\n",
       "      <td>0</td>\n",
       "      <td>2680</td>\n",
       "      <td>0</td>\n",
       "      <td>0</td>\n",
       "      <td>0</td>\n",
       "      <td>1</td>\n",
       "      <td>...</td>\n",
       "      <td>1</td>\n",
       "      <td>1</td>\n",
       "      <td>0</td>\n",
       "      <td>0</td>\n",
       "      <td>1</td>\n",
       "      <td>0</td>\n",
       "      <td>1</td>\n",
       "      <td>0</td>\n",
       "      <td>0</td>\n",
       "      <td>1</td>\n",
       "    </tr>\n",
       "    <tr>\n",
       "      <th>3</th>\n",
       "      <td>8</td>\n",
       "      <td>512</td>\n",
       "      <td>0</td>\n",
       "      <td>2</td>\n",
       "      <td>0</td>\n",
       "      <td>4689</td>\n",
       "      <td>1</td>\n",
       "      <td>0</td>\n",
       "      <td>0</td>\n",
       "      <td>0</td>\n",
       "      <td>...</td>\n",
       "      <td>1</td>\n",
       "      <td>1</td>\n",
       "      <td>0</td>\n",
       "      <td>0</td>\n",
       "      <td>1</td>\n",
       "      <td>0</td>\n",
       "      <td>1</td>\n",
       "      <td>0</td>\n",
       "      <td>1</td>\n",
       "      <td>0</td>\n",
       "    </tr>\n",
       "    <tr>\n",
       "      <th>4</th>\n",
       "      <td>4</td>\n",
       "      <td>0</td>\n",
       "      <td>512</td>\n",
       "      <td>0</td>\n",
       "      <td>0</td>\n",
       "      <td>1808</td>\n",
       "      <td>1</td>\n",
       "      <td>0</td>\n",
       "      <td>0</td>\n",
       "      <td>0</td>\n",
       "      <td>...</td>\n",
       "      <td>1</td>\n",
       "      <td>1</td>\n",
       "      <td>0</td>\n",
       "      <td>0</td>\n",
       "      <td>1</td>\n",
       "      <td>0</td>\n",
       "      <td>1</td>\n",
       "      <td>0</td>\n",
       "      <td>0</td>\n",
       "      <td>1</td>\n",
       "    </tr>\n",
       "  </tbody>\n",
       "</table>\n",
       "<p>5 rows × 31 columns</p>\n",
       "</div>"
      ],
      "text/plain": [
       "   ram_gb  ssd   hdd  graphic_card_gb  warranty  price  brand_asus  \\\n",
       "0       4    0  1024                0         0   2321           1   \n",
       "1       4    0  1024                0         0   2613           0   \n",
       "2       4    0  1024                0         0   2680           0   \n",
       "3       8  512     0                2         0   4689           1   \n",
       "4       4    0   512                0         0   1808           1   \n",
       "\n",
       "   brand_dell  brand_hp  brand_lenovo  ...  os_windows  weight_casual  \\\n",
       "0           0         0             0  ...           1              1   \n",
       "1           0         0             1  ...           1              1   \n",
       "2           0         0             1  ...           1              1   \n",
       "3           0         0             0  ...           1              1   \n",
       "4           0         0             0  ...           1              1   \n",
       "\n",
       "   weight_gaming  weight_thinnlight  touchscreen_0  touchscreen_1  \\\n",
       "0              0                  0              1              0   \n",
       "1              0                  0              1              0   \n",
       "2              0                  0              1              0   \n",
       "3              0                  0              1              0   \n",
       "4              0                  0              1              0   \n",
       "\n",
       "   ram_type_ddr4  ram_type_other  os_bit_32-bit  os_bit_64-bit  \n",
       "0              1               0              0              1  \n",
       "1              1               0              0              1  \n",
       "2              1               0              0              1  \n",
       "3              1               0              1              0  \n",
       "4              1               0              0              1  \n",
       "\n",
       "[5 rows x 31 columns]"
      ]
     },
     "execution_count": 7,
     "metadata": {},
     "output_type": "execute_result"
    }
   ],
   "source": [
    "df = pd.read_csv(dataset_url)\n",
    "df.head()"
   ]
  },
  {
   "cell_type": "markdown",
   "id": "ca0ea18b",
   "metadata": {},
   "source": [
    "## Desenvolvimento dos modelos"
   ]
  },
  {
   "cell_type": "code",
   "execution_count": 8,
   "id": "a0718502",
   "metadata": {},
   "outputs": [
    {
     "data": {
      "text/html": [
       "<pre style=\"white-space:pre;overflow-x:auto;line-height:normal;font-family:Menlo,'DejaVu Sans Mono',consolas,'Courier New',monospace\">Initialized MLflow to track repo <span style=\"color: #008000; text-decoration-color: #008000\">\"michelpf/fiap-ds-mlops-9dtsr-laptop-pricing\"</span>\n",
       "</pre>\n"
      ],
      "text/plain": [
       "Initialized MLflow to track repo \u001b[32m\"michelpf/fiap-ds-mlops-9dtsr-laptop-pricing\"\u001b[0m\n"
      ]
     },
     "metadata": {},
     "output_type": "display_data"
    },
    {
     "data": {
      "text/html": [
       "<pre style=\"white-space:pre;overflow-x:auto;line-height:normal;font-family:Menlo,'DejaVu Sans Mono',consolas,'Courier New',monospace\">Repository michelpf/fiap-ds-mlops-9dtsr-laptop-pricing initialized!\n",
       "</pre>\n"
      ],
      "text/plain": [
       "Repository michelpf/fiap-ds-mlops-9dtsr-laptop-pricing initialized!\n"
      ]
     },
     "metadata": {},
     "output_type": "display_data"
    }
   ],
   "source": [
    "dagshub.init(repo_owner=\"michelpf\", repo_name=\"fiap-ds-mlops-9dtsr-laptop-pricing\", mlflow=True)"
   ]
  },
  {
   "cell_type": "code",
   "execution_count": 9,
   "id": "bdd83723",
   "metadata": {},
   "outputs": [
    {
     "name": "stderr",
     "output_type": "stream",
     "text": [
      "2025/06/11 20:43:03 INFO mlflow.tracking.fluent: Autologging successfully enabled for lightgbm.\n",
      "2025/06/11 20:43:04 INFO mlflow.tracking.fluent: Autologging successfully enabled for sklearn.\n",
      "2025/06/11 20:43:04 INFO mlflow.tracking.fluent: Autologging successfully enabled for xgboost.\n"
     ]
    }
   ],
   "source": [
    "mlflow.autolog()"
   ]
  },
  {
   "cell_type": "code",
   "execution_count": 10,
   "id": "4ed29c01",
   "metadata": {},
   "outputs": [
    {
     "data": {
      "text/plain": [
       "['ram_gb',\n",
       " 'ssd',\n",
       " 'hdd',\n",
       " 'graphic_card_gb',\n",
       " 'warranty',\n",
       " 'brand_asus',\n",
       " 'brand_dell',\n",
       " 'brand_hp',\n",
       " 'brand_lenovo',\n",
       " 'brand_other',\n",
       " 'processor_brand_amd',\n",
       " 'processor_brand_intel',\n",
       " 'processor_brand_m1',\n",
       " 'processor_name_core i3',\n",
       " 'processor_name_core i5',\n",
       " 'processor_name_core i7',\n",
       " 'processor_name_other',\n",
       " 'processor_name_ryzen 5',\n",
       " 'processor_name_ryzen 7',\n",
       " 'os_other',\n",
       " 'os_windows',\n",
       " 'weight_casual',\n",
       " 'weight_gaming',\n",
       " 'weight_thinnlight',\n",
       " 'touchscreen_0',\n",
       " 'touchscreen_1',\n",
       " 'ram_type_ddr4',\n",
       " 'ram_type_other',\n",
       " 'os_bit_32-bit',\n",
       " 'os_bit_64-bit']"
      ]
     },
     "execution_count": 10,
     "metadata": {},
     "output_type": "execute_result"
    }
   ],
   "source": [
    "features = list(df.columns)\n",
    "\n",
    "features.remove(\"price\")\n",
    "\n",
    "features"
   ]
  },
  {
   "cell_type": "code",
   "execution_count": 11,
   "id": "9753b636",
   "metadata": {},
   "outputs": [],
   "source": [
    "X = df[features]"
   ]
  },
  {
   "cell_type": "code",
   "execution_count": 12,
   "id": "8377b0f0",
   "metadata": {},
   "outputs": [
    {
     "data": {
      "text/plain": [
       "30"
      ]
     },
     "execution_count": 12,
     "metadata": {},
     "output_type": "execute_result"
    }
   ],
   "source": [
    "len(features)"
   ]
  },
  {
   "cell_type": "code",
   "execution_count": 13,
   "id": "15ef1d2c",
   "metadata": {},
   "outputs": [
    {
     "data": {
      "text/html": [
       "<div>\n",
       "<style scoped>\n",
       "    .dataframe tbody tr th:only-of-type {\n",
       "        vertical-align: middle;\n",
       "    }\n",
       "\n",
       "    .dataframe tbody tr th {\n",
       "        vertical-align: top;\n",
       "    }\n",
       "\n",
       "    .dataframe thead th {\n",
       "        text-align: right;\n",
       "    }\n",
       "</style>\n",
       "<table border=\"1\" class=\"dataframe\">\n",
       "  <thead>\n",
       "    <tr style=\"text-align: right;\">\n",
       "      <th></th>\n",
       "      <th>ram_gb</th>\n",
       "      <th>ssd</th>\n",
       "      <th>hdd</th>\n",
       "      <th>graphic_card_gb</th>\n",
       "      <th>warranty</th>\n",
       "      <th>brand_asus</th>\n",
       "      <th>brand_dell</th>\n",
       "      <th>brand_hp</th>\n",
       "      <th>brand_lenovo</th>\n",
       "      <th>brand_other</th>\n",
       "      <th>...</th>\n",
       "      <th>os_windows</th>\n",
       "      <th>weight_casual</th>\n",
       "      <th>weight_gaming</th>\n",
       "      <th>weight_thinnlight</th>\n",
       "      <th>touchscreen_0</th>\n",
       "      <th>touchscreen_1</th>\n",
       "      <th>ram_type_ddr4</th>\n",
       "      <th>ram_type_other</th>\n",
       "      <th>os_bit_32-bit</th>\n",
       "      <th>os_bit_64-bit</th>\n",
       "    </tr>\n",
       "  </thead>\n",
       "  <tbody>\n",
       "    <tr>\n",
       "      <th>0</th>\n",
       "      <td>4</td>\n",
       "      <td>0</td>\n",
       "      <td>1024</td>\n",
       "      <td>0</td>\n",
       "      <td>0</td>\n",
       "      <td>1</td>\n",
       "      <td>0</td>\n",
       "      <td>0</td>\n",
       "      <td>0</td>\n",
       "      <td>0</td>\n",
       "      <td>...</td>\n",
       "      <td>1</td>\n",
       "      <td>1</td>\n",
       "      <td>0</td>\n",
       "      <td>0</td>\n",
       "      <td>1</td>\n",
       "      <td>0</td>\n",
       "      <td>1</td>\n",
       "      <td>0</td>\n",
       "      <td>0</td>\n",
       "      <td>1</td>\n",
       "    </tr>\n",
       "    <tr>\n",
       "      <th>1</th>\n",
       "      <td>4</td>\n",
       "      <td>0</td>\n",
       "      <td>1024</td>\n",
       "      <td>0</td>\n",
       "      <td>0</td>\n",
       "      <td>0</td>\n",
       "      <td>0</td>\n",
       "      <td>0</td>\n",
       "      <td>1</td>\n",
       "      <td>0</td>\n",
       "      <td>...</td>\n",
       "      <td>1</td>\n",
       "      <td>1</td>\n",
       "      <td>0</td>\n",
       "      <td>0</td>\n",
       "      <td>1</td>\n",
       "      <td>0</td>\n",
       "      <td>1</td>\n",
       "      <td>0</td>\n",
       "      <td>0</td>\n",
       "      <td>1</td>\n",
       "    </tr>\n",
       "    <tr>\n",
       "      <th>2</th>\n",
       "      <td>4</td>\n",
       "      <td>0</td>\n",
       "      <td>1024</td>\n",
       "      <td>0</td>\n",
       "      <td>0</td>\n",
       "      <td>0</td>\n",
       "      <td>0</td>\n",
       "      <td>0</td>\n",
       "      <td>1</td>\n",
       "      <td>0</td>\n",
       "      <td>...</td>\n",
       "      <td>1</td>\n",
       "      <td>1</td>\n",
       "      <td>0</td>\n",
       "      <td>0</td>\n",
       "      <td>1</td>\n",
       "      <td>0</td>\n",
       "      <td>1</td>\n",
       "      <td>0</td>\n",
       "      <td>0</td>\n",
       "      <td>1</td>\n",
       "    </tr>\n",
       "    <tr>\n",
       "      <th>3</th>\n",
       "      <td>8</td>\n",
       "      <td>512</td>\n",
       "      <td>0</td>\n",
       "      <td>2</td>\n",
       "      <td>0</td>\n",
       "      <td>1</td>\n",
       "      <td>0</td>\n",
       "      <td>0</td>\n",
       "      <td>0</td>\n",
       "      <td>0</td>\n",
       "      <td>...</td>\n",
       "      <td>1</td>\n",
       "      <td>1</td>\n",
       "      <td>0</td>\n",
       "      <td>0</td>\n",
       "      <td>1</td>\n",
       "      <td>0</td>\n",
       "      <td>1</td>\n",
       "      <td>0</td>\n",
       "      <td>1</td>\n",
       "      <td>0</td>\n",
       "    </tr>\n",
       "    <tr>\n",
       "      <th>4</th>\n",
       "      <td>4</td>\n",
       "      <td>0</td>\n",
       "      <td>512</td>\n",
       "      <td>0</td>\n",
       "      <td>0</td>\n",
       "      <td>1</td>\n",
       "      <td>0</td>\n",
       "      <td>0</td>\n",
       "      <td>0</td>\n",
       "      <td>0</td>\n",
       "      <td>...</td>\n",
       "      <td>1</td>\n",
       "      <td>1</td>\n",
       "      <td>0</td>\n",
       "      <td>0</td>\n",
       "      <td>1</td>\n",
       "      <td>0</td>\n",
       "      <td>1</td>\n",
       "      <td>0</td>\n",
       "      <td>0</td>\n",
       "      <td>1</td>\n",
       "    </tr>\n",
       "    <tr>\n",
       "      <th>...</th>\n",
       "      <td>...</td>\n",
       "      <td>...</td>\n",
       "      <td>...</td>\n",
       "      <td>...</td>\n",
       "      <td>...</td>\n",
       "      <td>...</td>\n",
       "      <td>...</td>\n",
       "      <td>...</td>\n",
       "      <td>...</td>\n",
       "      <td>...</td>\n",
       "      <td>...</td>\n",
       "      <td>...</td>\n",
       "      <td>...</td>\n",
       "      <td>...</td>\n",
       "      <td>...</td>\n",
       "      <td>...</td>\n",
       "      <td>...</td>\n",
       "      <td>...</td>\n",
       "      <td>...</td>\n",
       "      <td>...</td>\n",
       "      <td>...</td>\n",
       "    </tr>\n",
       "    <tr>\n",
       "      <th>775</th>\n",
       "      <td>4</td>\n",
       "      <td>1024</td>\n",
       "      <td>0</td>\n",
       "      <td>0</td>\n",
       "      <td>1</td>\n",
       "      <td>1</td>\n",
       "      <td>0</td>\n",
       "      <td>0</td>\n",
       "      <td>0</td>\n",
       "      <td>0</td>\n",
       "      <td>...</td>\n",
       "      <td>1</td>\n",
       "      <td>1</td>\n",
       "      <td>0</td>\n",
       "      <td>0</td>\n",
       "      <td>1</td>\n",
       "      <td>0</td>\n",
       "      <td>1</td>\n",
       "      <td>0</td>\n",
       "      <td>0</td>\n",
       "      <td>1</td>\n",
       "    </tr>\n",
       "    <tr>\n",
       "      <th>776</th>\n",
       "      <td>4</td>\n",
       "      <td>1024</td>\n",
       "      <td>0</td>\n",
       "      <td>0</td>\n",
       "      <td>1</td>\n",
       "      <td>1</td>\n",
       "      <td>0</td>\n",
       "      <td>0</td>\n",
       "      <td>0</td>\n",
       "      <td>0</td>\n",
       "      <td>...</td>\n",
       "      <td>1</td>\n",
       "      <td>1</td>\n",
       "      <td>0</td>\n",
       "      <td>0</td>\n",
       "      <td>1</td>\n",
       "      <td>0</td>\n",
       "      <td>1</td>\n",
       "      <td>0</td>\n",
       "      <td>0</td>\n",
       "      <td>1</td>\n",
       "    </tr>\n",
       "    <tr>\n",
       "      <th>777</th>\n",
       "      <td>4</td>\n",
       "      <td>1024</td>\n",
       "      <td>0</td>\n",
       "      <td>4</td>\n",
       "      <td>1</td>\n",
       "      <td>1</td>\n",
       "      <td>0</td>\n",
       "      <td>0</td>\n",
       "      <td>0</td>\n",
       "      <td>0</td>\n",
       "      <td>...</td>\n",
       "      <td>1</td>\n",
       "      <td>1</td>\n",
       "      <td>0</td>\n",
       "      <td>0</td>\n",
       "      <td>1</td>\n",
       "      <td>0</td>\n",
       "      <td>1</td>\n",
       "      <td>0</td>\n",
       "      <td>0</td>\n",
       "      <td>1</td>\n",
       "    </tr>\n",
       "    <tr>\n",
       "      <th>778</th>\n",
       "      <td>4</td>\n",
       "      <td>1024</td>\n",
       "      <td>0</td>\n",
       "      <td>4</td>\n",
       "      <td>1</td>\n",
       "      <td>1</td>\n",
       "      <td>0</td>\n",
       "      <td>0</td>\n",
       "      <td>0</td>\n",
       "      <td>0</td>\n",
       "      <td>...</td>\n",
       "      <td>1</td>\n",
       "      <td>1</td>\n",
       "      <td>0</td>\n",
       "      <td>0</td>\n",
       "      <td>1</td>\n",
       "      <td>0</td>\n",
       "      <td>1</td>\n",
       "      <td>0</td>\n",
       "      <td>0</td>\n",
       "      <td>1</td>\n",
       "    </tr>\n",
       "    <tr>\n",
       "      <th>779</th>\n",
       "      <td>8</td>\n",
       "      <td>512</td>\n",
       "      <td>0</td>\n",
       "      <td>0</td>\n",
       "      <td>0</td>\n",
       "      <td>0</td>\n",
       "      <td>0</td>\n",
       "      <td>0</td>\n",
       "      <td>1</td>\n",
       "      <td>0</td>\n",
       "      <td>...</td>\n",
       "      <td>0</td>\n",
       "      <td>0</td>\n",
       "      <td>0</td>\n",
       "      <td>1</td>\n",
       "      <td>1</td>\n",
       "      <td>0</td>\n",
       "      <td>1</td>\n",
       "      <td>0</td>\n",
       "      <td>0</td>\n",
       "      <td>1</td>\n",
       "    </tr>\n",
       "  </tbody>\n",
       "</table>\n",
       "<p>780 rows × 30 columns</p>\n",
       "</div>"
      ],
      "text/plain": [
       "     ram_gb   ssd   hdd  graphic_card_gb  warranty  brand_asus  brand_dell  \\\n",
       "0         4     0  1024                0         0           1           0   \n",
       "1         4     0  1024                0         0           0           0   \n",
       "2         4     0  1024                0         0           0           0   \n",
       "3         8   512     0                2         0           1           0   \n",
       "4         4     0   512                0         0           1           0   \n",
       "..      ...   ...   ...              ...       ...         ...         ...   \n",
       "775       4  1024     0                0         1           1           0   \n",
       "776       4  1024     0                0         1           1           0   \n",
       "777       4  1024     0                4         1           1           0   \n",
       "778       4  1024     0                4         1           1           0   \n",
       "779       8   512     0                0         0           0           0   \n",
       "\n",
       "     brand_hp  brand_lenovo  brand_other  ...  os_windows  weight_casual  \\\n",
       "0           0             0            0  ...           1              1   \n",
       "1           0             1            0  ...           1              1   \n",
       "2           0             1            0  ...           1              1   \n",
       "3           0             0            0  ...           1              1   \n",
       "4           0             0            0  ...           1              1   \n",
       "..        ...           ...          ...  ...         ...            ...   \n",
       "775         0             0            0  ...           1              1   \n",
       "776         0             0            0  ...           1              1   \n",
       "777         0             0            0  ...           1              1   \n",
       "778         0             0            0  ...           1              1   \n",
       "779         0             1            0  ...           0              0   \n",
       "\n",
       "     weight_gaming  weight_thinnlight  touchscreen_0  touchscreen_1  \\\n",
       "0                0                  0              1              0   \n",
       "1                0                  0              1              0   \n",
       "2                0                  0              1              0   \n",
       "3                0                  0              1              0   \n",
       "4                0                  0              1              0   \n",
       "..             ...                ...            ...            ...   \n",
       "775              0                  0              1              0   \n",
       "776              0                  0              1              0   \n",
       "777              0                  0              1              0   \n",
       "778              0                  0              1              0   \n",
       "779              0                  1              1              0   \n",
       "\n",
       "     ram_type_ddr4  ram_type_other  os_bit_32-bit  os_bit_64-bit  \n",
       "0                1               0              0              1  \n",
       "1                1               0              0              1  \n",
       "2                1               0              0              1  \n",
       "3                1               0              1              0  \n",
       "4                1               0              0              1  \n",
       "..             ...             ...            ...            ...  \n",
       "775              1               0              0              1  \n",
       "776              1               0              0              1  \n",
       "777              1               0              0              1  \n",
       "778              1               0              0              1  \n",
       "779              1               0              0              1  \n",
       "\n",
       "[780 rows x 30 columns]"
      ]
     },
     "execution_count": 13,
     "metadata": {},
     "output_type": "execute_result"
    }
   ],
   "source": [
    "X"
   ]
  },
  {
   "cell_type": "code",
   "execution_count": 13,
   "id": "b151d6ec",
   "metadata": {},
   "outputs": [
    {
     "data": {
      "text/plain": [
       "0       2321\n",
       "1       2613\n",
       "2       2680\n",
       "3       4689\n",
       "4       1808\n",
       "       ...  \n",
       "775     9111\n",
       "776     9714\n",
       "777    10049\n",
       "778     9580\n",
       "779     3852\n",
       "Name: price, Length: 780, dtype: int64"
      ]
     },
     "execution_count": 13,
     "metadata": {},
     "output_type": "execute_result"
    }
   ],
   "source": [
    "y = df[\"price\"]\n",
    "y"
   ]
  },
  {
   "cell_type": "code",
   "execution_count": 14,
   "id": "6025044d",
   "metadata": {},
   "outputs": [],
   "source": [
    "X_train, X_test, y_train, y_test = train_test_split(X.values, y.values, test_size=0.3, random_state=42)"
   ]
  },
  {
   "cell_type": "code",
   "execution_count": 19,
   "id": "5e77ebb0",
   "metadata": {},
   "outputs": [],
   "source": [
    "def evaluate_and_log_model(kind, model_name, model, X_test, y_test):\n",
    "    predictions = model.predict(X_test)\n",
    "\n",
    "    mse = mean_squared_error(y_test, predictions)\n",
    "    mae = mean_absolute_error(y_test, predictions)\n",
    "    r2 = r2_score(y_test, predictions)\n",
    "    mape = mean_absolute_percentage_error(y_test, predictions)\n",
    "\n",
    "    mlflow.log_metric(\"MSE\", mse)\n",
    "    mlflow.log_metric(\"MAE\", mae)\n",
    "    mlflow.log_metric(\"R2\", r2)\n",
    "    mlflow.log_metric(\"MAPE\", mape)\n",
    "\n",
    "    signature = infer_signature(X_test, predictions)\n",
    "\n",
    "    if kind == \"catboost\":\n",
    "        mlflow.catboost.log_model(model, model_name, signature=signature, input_example=X_test[:5])\n",
    "    elif kind == \"xgboost\":\n",
    "        mlflow.xgboost.log_model(model, model_name, signature=signature, input_example=X_test[:5])\n",
    "    elif kind == \"lightgbm\":\n",
    "        mlflow.lightgbm.log_model(model, model_name, signature=signature, input_example=X_test[:5])\n",
    "    else:\n",
    "        mlflow.sklearn.log_model(model, model_name, signature=signature, input_example=X_test[:5])\n",
    "\n",
    "    print(f\"Model {model_name} logged with MSE: {mse}, MAE: {mae}, R2: {r2}, MAPE: {mape}\")\n",
    "    "
   ]
  },
  {
   "cell_type": "markdown",
   "id": "bbcf57b5",
   "metadata": {},
   "source": [
    "### Experimento com Ridge Regression"
   ]
  },
  {
   "cell_type": "code",
   "execution_count": 17,
   "id": "70e99fe8",
   "metadata": {},
   "outputs": [
    {
     "name": "stderr",
     "output_type": "stream",
     "text": [
      "2025/06/11 20:33:10 INFO mlflow.sklearn.utils: Logging the 5 best runs, no runs will be omitted.\n"
     ]
    },
    {
     "name": "stdout",
     "output_type": "stream",
     "text": [
      "🏃 View run capable-squid-897 at: https://dagshub.com/michelpf/fiap-ds-mlops-9dtsr-laptop-pricing.mlflow/#/experiments/0/runs/6cc2f69d66d44b84818c75b4a406eb14\n",
      "🧪 View experiment at: https://dagshub.com/michelpf/fiap-ds-mlops-9dtsr-laptop-pricing.mlflow/#/experiments/0\n",
      "🏃 View run rogue-auk-863 at: https://dagshub.com/michelpf/fiap-ds-mlops-9dtsr-laptop-pricing.mlflow/#/experiments/0/runs/2339fe67f1e74ba284e69a01d540fe67\n",
      "🧪 View experiment at: https://dagshub.com/michelpf/fiap-ds-mlops-9dtsr-laptop-pricing.mlflow/#/experiments/0\n",
      "🏃 View run fun-asp-314 at: https://dagshub.com/michelpf/fiap-ds-mlops-9dtsr-laptop-pricing.mlflow/#/experiments/0/runs/69273470476e4a51a23cf72cd5108284\n",
      "🧪 View experiment at: https://dagshub.com/michelpf/fiap-ds-mlops-9dtsr-laptop-pricing.mlflow/#/experiments/0\n",
      "🏃 View run carefree-ram-932 at: https://dagshub.com/michelpf/fiap-ds-mlops-9dtsr-laptop-pricing.mlflow/#/experiments/0/runs/63be58e3f6e34ea686f2c76d74276204\n",
      "🧪 View experiment at: https://dagshub.com/michelpf/fiap-ds-mlops-9dtsr-laptop-pricing.mlflow/#/experiments/0\n",
      "Model ridge_regression logged with MSE: 2962975.356950875, MAE: 1120.8339054638382, R2: 0.6493362091893764, MAPE: 0.21629018553114432\n",
      "🏃 View run Ridge Regression at: https://dagshub.com/michelpf/fiap-ds-mlops-9dtsr-laptop-pricing.mlflow/#/experiments/0/runs/0b15b887ee694459a49e971a95bc3b47\n",
      "🧪 View experiment at: https://dagshub.com/michelpf/fiap-ds-mlops-9dtsr-laptop-pricing.mlflow/#/experiments/0\n"
     ]
    },
    {
     "name": "stdout",
     "output_type": "stream",
     "text": [
      "🏃 View run resilient-shad-674 at: https://dagshub.com/michelpf/fiap-ds-mlops-9dtsr-laptop-pricing.mlflow/#/experiments/0/runs/2eae30e136b2483c96a4904fbc16ba0c\n",
      "🧪 View experiment at: https://dagshub.com/michelpf/fiap-ds-mlops-9dtsr-laptop-pricing.mlflow/#/experiments/0\n",
      "🏃 View run casual-roo-186 at: https://dagshub.com/michelpf/fiap-ds-mlops-9dtsr-laptop-pricing.mlflow/#/experiments/0/runs/ebd9bb3d7bcb41669101a7f64ee28758\n",
      "🧪 View experiment at: https://dagshub.com/michelpf/fiap-ds-mlops-9dtsr-laptop-pricing.mlflow/#/experiments/0\n",
      "🏃 View run languid-bee-349 at: https://dagshub.com/michelpf/fiap-ds-mlops-9dtsr-laptop-pricing.mlflow/#/experiments/0/runs/bb3de8b6a35940b390acdae0113ddcc8\n",
      "🧪 View experiment at: https://dagshub.com/michelpf/fiap-ds-mlops-9dtsr-laptop-pricing.mlflow/#/experiments/0\n",
      "🏃 View run bright-loon-724 at: https://dagshub.com/michelpf/fiap-ds-mlops-9dtsr-laptop-pricing.mlflow/#/experiments/0/runs/99690ee853e54d4fbd977951bbc507ee\n",
      "🧪 View experiment at: https://dagshub.com/michelpf/fiap-ds-mlops-9dtsr-laptop-pricing.mlflow/#/experiments/0\n",
      "🏃 View run thundering-newt-551 at: https://dagshub.com/michelpf/fiap-ds-mlops-9dtsr-laptop-pricing.mlflow/#/experiments/0/runs/ff51be66da114fe2a78ca21137670ef4\n",
      "🧪 View experiment at: https://dagshub.com/michelpf/fiap-ds-mlops-9dtsr-laptop-pricing.mlflow/#/experiments/0\n"
     ]
    }
   ],
   "source": [
    "with mlflow.start_run(run_name=\"Ridge Regression\"):\n",
    "    param_grid = {\"alpha\": [0.1, 1.0, 10.0, 100.0]}\n",
    "\n",
    "    ridge = Ridge()\n",
    "\n",
    "    grid_search = GridSearchCV(ridge, param_grid, cv=5, scoring=make_scorer(mean_absolute_percentage_error, greater_is_better=False))\n",
    "    grid_search.fit(X_train, y_train)\n",
    "    best_model = grid_search.best_estimator_\n",
    "\n",
    "    mlflow.log_param(\"best_alpha\", best_model.alpha)\n",
    "    evaluate_and_log_model(\"sklearn\", \"ridge_regression\", best_model, X_test, y_test)"
   ]
  },
  {
   "cell_type": "markdown",
   "id": "13cd0ee8",
   "metadata": {},
   "source": [
    "## Decision Tree Regression"
   ]
  },
  {
   "cell_type": "code",
   "execution_count": 18,
   "id": "7b001c9b",
   "metadata": {},
   "outputs": [
    {
     "name": "stderr",
     "output_type": "stream",
     "text": [
      "2025/06/11 20:38:55 INFO mlflow.sklearn.utils: Logging the 5 best runs, 7 runs will be omitted.\n"
     ]
    },
    {
     "name": "stdout",
     "output_type": "stream",
     "text": [
      "Model Decision Tree Regressor logged with MSE: 3742850.089654559, MAE: 1073.6755698005697, R2: 0.5570391775972132, MAPE: 0.17104075045176223\n",
      "🏃 View run DecisionTree_Regressor at: https://dagshub.com/michelpf/fiap-ds-mlops-9dtsr-laptop-pricing.mlflow/#/experiments/0/runs/586482f0b77a4976b6e7c8a3883ad1de\n",
      "🧪 View experiment at: https://dagshub.com/michelpf/fiap-ds-mlops-9dtsr-laptop-pricing.mlflow/#/experiments/0\n"
     ]
    }
   ],
   "source": [
    "with mlflow.start_run(run_name=\"DecisionTree_Regressor\"):\n",
    "    param_grid = {\n",
    "        'max_depth': [3, 5, 10, None],\n",
    "        'min_samples_split': [2, 5, 10]\n",
    "    }\n",
    "\n",
    "    tree = DecisionTreeRegressor(random_state=42)\n",
    "    \n",
    "    grid_search = GridSearchCV(tree, param_grid, scoring=make_scorer(mean_absolute_percentage_error, greater_is_better=False), cv=5)\n",
    "    grid_search.fit(X_train, y_train)\n",
    "    \n",
    "    best_model = grid_search.best_estimator_\n",
    "\n",
    "    mlflow.log_param(\"best_max_depth\", best_model.max_depth)\n",
    "    mlflow.log_param(\"best_min_samples_split\", best_model.min_samples_split)\n",
    "    \n",
    "    evaluate_and_log_model(\"sklearn\", \"Decision Tree Regressor\", best_model, X_test, y_test)"
   ]
  },
  {
   "cell_type": "markdown",
   "id": "37f09d8a",
   "metadata": {},
   "source": [
    "## MLP Regression"
   ]
  },
  {
   "cell_type": "code",
   "execution_count": 20,
   "id": "156c1181",
   "metadata": {},
   "outputs": [],
   "source": [
    "import warnings\n",
    "from sklearn.exceptions import ConvergenceWarning\n",
    "\n",
    "warnings.filterwarnings(\"ignore\", category=ConvergenceWarning)"
   ]
  },
  {
   "cell_type": "code",
   "execution_count": 21,
   "id": "540a912e",
   "metadata": {},
   "outputs": [
    {
     "name": "stderr",
     "output_type": "stream",
     "text": [
      "2025/06/11 20:44:28 INFO mlflow.sklearn.utils: Logging the 5 best runs, 19 runs will be omitted.\n"
     ]
    },
    {
     "name": "stdout",
     "output_type": "stream",
     "text": [
      "🏃 View run traveling-croc-230 at: https://dagshub.com/michelpf/fiap-ds-mlops-9dtsr-laptop-pricing.mlflow/#/experiments/0/runs/6f246475a5144b6e84baef803ec6df09\n",
      "🧪 View experiment at: https://dagshub.com/michelpf/fiap-ds-mlops-9dtsr-laptop-pricing.mlflow/#/experiments/0\n",
      "🏃 View run zealous-squirrel-397 at: https://dagshub.com/michelpf/fiap-ds-mlops-9dtsr-laptop-pricing.mlflow/#/experiments/0/runs/5b15c57ca72d44ccb2106f91d34054d9\n",
      "🧪 View experiment at: https://dagshub.com/michelpf/fiap-ds-mlops-9dtsr-laptop-pricing.mlflow/#/experiments/0\n",
      "🏃 View run learned-boar-113 at: https://dagshub.com/michelpf/fiap-ds-mlops-9dtsr-laptop-pricing.mlflow/#/experiments/0/runs/bcdb381ae6444a59a73e450efae6617c\n",
      "🧪 View experiment at: https://dagshub.com/michelpf/fiap-ds-mlops-9dtsr-laptop-pricing.mlflow/#/experiments/0\n",
      "🏃 View run dashing-mink-998 at: https://dagshub.com/michelpf/fiap-ds-mlops-9dtsr-laptop-pricing.mlflow/#/experiments/0/runs/a670baa716c844f1b7ba8ad1eb48026b\n",
      "🧪 View experiment at: https://dagshub.com/michelpf/fiap-ds-mlops-9dtsr-laptop-pricing.mlflow/#/experiments/0\n",
      "🏃 View run gentle-turtle-825 at: https://dagshub.com/michelpf/fiap-ds-mlops-9dtsr-laptop-pricing.mlflow/#/experiments/0/runs/12443b5297884647affd6becea44b43f\n",
      "🧪 View experiment at: https://dagshub.com/michelpf/fiap-ds-mlops-9dtsr-laptop-pricing.mlflow/#/experiments/0\n",
      "Model MLP Regressor logged with MSE: 3610841.478726172, MAE: 1250.2398797980118, R2: 0.5726622032221815, MAPE: 0.2312572418454892\n",
      "🏃 View run MLP_Regressor at: https://dagshub.com/michelpf/fiap-ds-mlops-9dtsr-laptop-pricing.mlflow/#/experiments/0/runs/fdd14d819f7f48ea9d8d5cc3fed6d237\n",
      "🧪 View experiment at: https://dagshub.com/michelpf/fiap-ds-mlops-9dtsr-laptop-pricing.mlflow/#/experiments/0\n"
     ]
    },
    {
     "name": "stdout",
     "output_type": "stream",
     "text": [
      "🏃 View run unique-conch-657 at: https://dagshub.com/michelpf/fiap-ds-mlops-9dtsr-laptop-pricing.mlflow/#/experiments/0/runs/486e948cf3b84532b6d98f4aa50663b2\n",
      "🧪 View experiment at: https://dagshub.com/michelpf/fiap-ds-mlops-9dtsr-laptop-pricing.mlflow/#/experiments/0\n",
      "🏃 View run fortunate-grouse-495 at: https://dagshub.com/michelpf/fiap-ds-mlops-9dtsr-laptop-pricing.mlflow/#/experiments/0/runs/6a4a2b3227874791941f8c0080d01667\n",
      "🧪 View experiment at: https://dagshub.com/michelpf/fiap-ds-mlops-9dtsr-laptop-pricing.mlflow/#/experiments/0\n",
      "🏃 View run silent-fox-839 at: https://dagshub.com/michelpf/fiap-ds-mlops-9dtsr-laptop-pricing.mlflow/#/experiments/0/runs/a8bec187144844de86fa823e9e832da3\n",
      "🧪 View experiment at: https://dagshub.com/michelpf/fiap-ds-mlops-9dtsr-laptop-pricing.mlflow/#/experiments/0\n",
      "🏃 View run thoughtful-bat-129 at: https://dagshub.com/michelpf/fiap-ds-mlops-9dtsr-laptop-pricing.mlflow/#/experiments/0/runs/eb099fc291ee43919f4938848efcf7d9\n",
      "🧪 View experiment at: https://dagshub.com/michelpf/fiap-ds-mlops-9dtsr-laptop-pricing.mlflow/#/experiments/0\n",
      "🏃 View run sassy-kit-670 at: https://dagshub.com/michelpf/fiap-ds-mlops-9dtsr-laptop-pricing.mlflow/#/experiments/0/runs/167cdf34266a460baea09643084d34a2\n",
      "🧪 View experiment at: https://dagshub.com/michelpf/fiap-ds-mlops-9dtsr-laptop-pricing.mlflow/#/experiments/0\n"
     ]
    }
   ],
   "source": [
    "from sklearn.neural_network import MLPRegressor\n",
    "\n",
    "with mlflow.start_run(run_name=\"MLP_Regressor\"):\n",
    "    param_grid = {\n",
    "        'hidden_layer_sizes': [(50,), (100,), (50,50), (100,50)],\n",
    "        'activation': ['relu', 'tanh'],\n",
    "        'alpha': [0.0001, 0.001, 0.01]\n",
    "    }\n",
    "    mlp = MLPRegressor(max_iter=500, random_state=42)\n",
    "\n",
    "    grid_search = GridSearchCV(mlp, param_grid, scoring=make_scorer(mean_absolute_percentage_error, greater_is_better=False), cv=5)\n",
    "    grid_search.fit(X_train, y_train)\n",
    "\n",
    "    best_model = grid_search.best_estimator_\n",
    "\n",
    "    mlflow.log_param(\"best_hidden_layer_sizes\", best_model.hidden_layer_sizes)\n",
    "    mlflow.log_param(\"best_activation\", best_model.activation)\n",
    "    mlflow.log_param(\"best_alpha\", best_model.alpha)\n",
    "    \n",
    "    evaluate_and_log_model(\"sklearn\", \"MLP Regressor\", best_model, X_test, y_test)"
   ]
  },
  {
   "cell_type": "markdown",
   "id": "266fdf1c",
   "metadata": {},
   "source": [
    "## XGBoost Regressor"
   ]
  },
  {
   "cell_type": "code",
   "execution_count": 22,
   "id": "dd13c23e",
   "metadata": {},
   "outputs": [
    {
     "name": "stderr",
     "output_type": "stream",
     "text": [
      "2025/06/11 20:46:52 INFO mlflow.sklearn.utils: Logging the 5 best runs, 43 runs will be omitted.\n",
      "/Users/michelpf/Documents/Projects/fiap-ds-mlops-9dtsr-laptop-pricing/.venv/lib/python3.10/site-packages/xgboost/sklearn.py:1028: UserWarning: [20:47:15] WARNING: /Users/runner/work/xgboost/xgboost/src/c_api/c_api.cc:1427: Saving model in the UBJSON format as default.  You can use file extension: `json`, `ubj` or `deprecated` to choose between formats.\n",
      "  self.get_booster().save_model(fname)\n"
     ]
    },
    {
     "name": "stdout",
     "output_type": "stream",
     "text": [
      "Model XGBoost Regressor logged with MSE: 2563481.5, MAE: 888.87158203125, R2: 0.6966157555580139, MAPE: 0.1418655961751938\n",
      "🏃 View run XGBoost_Regressor at: https://dagshub.com/michelpf/fiap-ds-mlops-9dtsr-laptop-pricing.mlflow/#/experiments/0/runs/e41cca33dfbc434eabf6e116741b3865\n",
      "🧪 View experiment at: https://dagshub.com/michelpf/fiap-ds-mlops-9dtsr-laptop-pricing.mlflow/#/experiments/0\n"
     ]
    }
   ],
   "source": [
    "with mlflow.start_run(run_name=\"XGBoost_Regressor\"):\n",
    "    param_grid = {\n",
    "        'n_estimators': [100, 200, 300],\n",
    "        'max_depth': [3, 5, 7, 9],\n",
    "        'learning_rate': [0.01, 0.1, 0.2, 0.3]\n",
    "    }\n",
    "    xgb = XGBRegressor(random_state=42, verbosity=0)\n",
    "\n",
    "    grid_search = GridSearchCV(xgb, param_grid, scoring=make_scorer(mean_absolute_percentage_error, greater_is_better=False), cv=5)\n",
    "    grid_search.fit(X_train, y_train)\n",
    "    \n",
    "    best_model = grid_search.best_estimator_\n",
    "\n",
    "    mlflow.log_param(\"best_n_estimators\", best_model.n_estimators)\n",
    "    mlflow.log_param(\"best_max_depth\", best_model.max_depth)\n",
    "    mlflow.log_param(\"best_learning_rate\", best_model.learning_rate)\n",
    "    evaluate_and_log_model(\"xgboost\", \"XGBoost Regressor\", best_model, X_test, y_test)"
   ]
  },
  {
   "cell_type": "markdown",
   "id": "7d247081",
   "metadata": {},
   "source": [
    "## Model registry"
   ]
  },
  {
   "cell_type": "code",
   "execution_count": 23,
   "id": "3e33f3cc",
   "metadata": {},
   "outputs": [
    {
     "name": "stderr",
     "output_type": "stream",
     "text": [
      "Successfully registered model 'laptop-pricing-model-brl'.\n",
      "2025/06/11 20:52:51 INFO mlflow.store.model_registry.abstract_store: Waiting up to 300 seconds for model version to finish creation. Model name: laptop-pricing-model-brl, version 1\n",
      "Created version '1' of model 'laptop-pricing-model-brl'.\n"
     ]
    },
    {
     "data": {
      "text/plain": [
       "<ModelVersion: aliases=[], creation_timestamp=1749685970958, current_stage='None', description='', last_updated_timestamp=1749685970958, name='laptop-pricing-model-brl', run_id='e41cca33dfbc434eabf6e116741b3865', run_link='', source='mlflow-artifacts:/62ec889fef764eb989a3ff67fbef1bb4/e41cca33dfbc434eabf6e116741b3865/artifacts/model', status='READY', status_message=None, tags={}, user_id='', version='1'>"
      ]
     },
     "execution_count": 23,
     "metadata": {},
     "output_type": "execute_result"
    }
   ],
   "source": [
    "run_id = \"e41cca33dfbc434eabf6e116741b3865\"\n",
    "\n",
    "mlflow.register_model(model_uri=f\"runs:/{run_id}/model\", name=\"laptop-pricing-model-brl\")"
   ]
  },
  {
   "cell_type": "markdown",
   "id": "3a42e6b9",
   "metadata": {},
   "source": []
  }
 ],
 "metadata": {
  "kernelspec": {
   "display_name": ".venv (3.10.13)",
   "language": "python",
   "name": "python3"
  },
  "language_info": {
   "codemirror_mode": {
    "name": "ipython",
    "version": 3
   },
   "file_extension": ".py",
   "mimetype": "text/x-python",
   "name": "python",
   "nbconvert_exporter": "python",
   "pygments_lexer": "ipython3",
   "version": "3.10.13"
  }
 },
 "nbformat": 4,
 "nbformat_minor": 5
}
